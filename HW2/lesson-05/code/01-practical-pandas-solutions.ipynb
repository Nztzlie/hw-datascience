{
 "cells": [
  {
   "cell_type": "markdown",
   "metadata": {},
   "source": [
    "# Lesson 5 Lab 1:  Practical Pandas"
   ]
  },
  {
   "cell_type": "code",
   "execution_count": null,
   "metadata": {
    "ExecuteTime": {
     "end_time": "2017-01-31T19:03:32.613843",
     "start_time": "2017-01-31T19:03:32.604378"
    },
    "collapsed": true
   },
   "outputs": [],
   "source": [
    "%matplotlib inline\n",
    "import pandas as pd\n",
    "import numpy as np\n",
    "import os\n",
    "\n",
    "data = pd.read_csv(os.path.join('..', 'data', 'ozone.csv'))"
   ]
  },
  {
   "cell_type": "code",
   "execution_count": null,
   "metadata": {
    "ExecuteTime": {
     "end_time": "2017-01-31T18:48:23.276619",
     "start_time": "2017-01-31T18:48:23.257133"
    },
    "collapsed": true
   },
   "outputs": [],
   "source": [
    "data.head()"
   ]
  },
  {
   "cell_type": "code",
   "execution_count": null,
   "metadata": {
    "ExecuteTime": {
     "end_time": "2017-01-31T18:49:43.185016",
     "start_time": "2017-01-31T18:49:42.627999"
    },
    "collapsed": true
   },
   "outputs": [],
   "source": [
    "pd.DataFrame??"
   ]
  },
  {
   "cell_type": "markdown",
   "metadata": {},
   "source": [
    "Print the column names of the dataset to the screen, one column name per line.  "
   ]
  },
  {
   "cell_type": "code",
   "execution_count": null,
   "metadata": {
    "ExecuteTime": {
     "end_time": "2017-01-31T18:50:05.397070",
     "start_time": "2017-01-31T18:50:05.392593"
    },
    "collapsed": true
   },
   "outputs": [],
   "source": [
    "for col in data.columns:\n",
    "    print col"
   ]
  },
  {
   "cell_type": "markdown",
   "metadata": {},
   "source": [
    "Extract the first 2 rows of the data frame and print them to the console. What does the output\n",
    "look like?"
   ]
  },
  {
   "cell_type": "code",
   "execution_count": null,
   "metadata": {
    "ExecuteTime": {
     "end_time": "2017-01-31T18:53:23.919789",
     "start_time": "2017-01-31T18:53:23.910925"
    },
    "collapsed": true
   },
   "outputs": [],
   "source": [
    "data.iloc[:2, -2:]"
   ]
  },
  {
   "cell_type": "code",
   "execution_count": null,
   "metadata": {
    "ExecuteTime": {
     "end_time": "2017-01-31T18:51:31.369211",
     "start_time": "2017-01-31T18:51:31.341988"
    },
    "collapsed": true
   },
   "outputs": [],
   "source": [
    "data.loc[:, ['Ozone', 'Wind']]"
   ]
  },
  {
   "cell_type": "code",
   "execution_count": null,
   "metadata": {
    "ExecuteTime": {
     "end_time": "2017-01-31T18:50:17.757109",
     "start_time": "2017-01-31T18:50:17.745478"
    },
    "collapsed": true
   },
   "outputs": [],
   "source": [
    "data.head(2)"
   ]
  },
  {
   "cell_type": "markdown",
   "metadata": {},
   "source": [
    "How many observations (i.e. rows) are in this data frame?"
   ]
  },
  {
   "cell_type": "code",
   "execution_count": null,
   "metadata": {
    "ExecuteTime": {
     "end_time": "2017-01-31T18:54:06.470904",
     "start_time": "2017-01-31T18:54:06.466435"
    },
    "collapsed": true
   },
   "outputs": [],
   "source": [
    "len(data)"
   ]
  },
  {
   "cell_type": "markdown",
   "metadata": {},
   "source": [
    "Extract the last 2 rows of the data frame and print them to the console. What does the output\n",
    "look like?"
   ]
  },
  {
   "cell_type": "code",
   "execution_count": null,
   "metadata": {
    "ExecuteTime": {
     "end_time": "2017-01-31T18:54:18.416239",
     "start_time": "2017-01-31T18:54:18.403829"
    },
    "collapsed": true
   },
   "outputs": [],
   "source": [
    "data.tail(2)"
   ]
  },
  {
   "cell_type": "markdown",
   "metadata": {},
   "source": [
    "What is the value of Ozone in the 47th row?"
   ]
  },
  {
   "cell_type": "code",
   "execution_count": null,
   "metadata": {
    "ExecuteTime": {
     "end_time": "2017-01-31T18:54:21.838677",
     "start_time": "2017-01-31T18:54:21.833702"
    },
    "collapsed": true
   },
   "outputs": [],
   "source": [
    "data.loc[46, 'Ozone']"
   ]
  },
  {
   "cell_type": "markdown",
   "metadata": {},
   "source": [
    "How many missing values are in the Ozone column of this data frame?"
   ]
  },
  {
   "cell_type": "code",
   "execution_count": null,
   "metadata": {
    "ExecuteTime": {
     "end_time": "2017-01-31T18:56:31.804666",
     "start_time": "2017-01-31T18:56:31.797360"
    },
    "collapsed": true
   },
   "outputs": [],
   "source": [
    "data.isnull().sum()"
   ]
  },
  {
   "cell_type": "markdown",
   "metadata": {},
   "source": [
    "What is the mean of the Ozone column in this dataset? Exclude missing values (coded as NA)\n",
    "from this calculation."
   ]
  },
  {
   "cell_type": "code",
   "execution_count": null,
   "metadata": {
    "ExecuteTime": {
     "end_time": "2017-01-31T18:56:35.347006",
     "start_time": "2017-01-31T18:56:35.341338"
    },
    "collapsed": true
   },
   "outputs": [],
   "source": [
    "data.Ozone.mean()"
   ]
  },
  {
   "cell_type": "markdown",
   "metadata": {},
   "source": [
    "Extract the subset of rows of the data frame where Ozone values are above 31 and Temp values\n",
    "are above 90. What is the mean of Solar.R in this subset?"
   ]
  },
  {
   "cell_type": "code",
   "execution_count": null,
   "metadata": {
    "ExecuteTime": {
     "end_time": "2017-01-31T18:56:59.661668",
     "start_time": "2017-01-31T18:56:59.651170"
    },
    "collapsed": true
   },
   "outputs": [],
   "source": [
    "data.Temp > 90"
   ]
  },
  {
   "cell_type": "code",
   "execution_count": null,
   "metadata": {
    "ExecuteTime": {
     "end_time": "2017-01-31T19:01:26.059508",
     "start_time": "2017-01-31T19:01:26.045265"
    },
    "collapsed": true
   },
   "outputs": [],
   "source": [
    "data.loc[(data.Temp > 90) & (data.Ozone > 31), ['Solar.R', 'Wind']]"
   ]
  },
  {
   "cell_type": "code",
   "execution_count": null,
   "metadata": {
    "collapsed": true
   },
   "outputs": [],
   "source": [
    "(data.Temp > 50) & (data.Ozone > 31)"
   ]
  },
  {
   "cell_type": "markdown",
   "metadata": {},
   "source": [
    "What is the mean of \"Temp\" when \"Month\" is equal to 6?"
   ]
  },
  {
   "cell_type": "code",
   "execution_count": null,
   "metadata": {
    "ExecuteTime": {
     "end_time": "2017-01-31T19:01:46.549925",
     "start_time": "2017-01-31T19:01:46.543457"
    },
    "collapsed": true
   },
   "outputs": [],
   "source": [
    "data.loc[data.Month == 6, 'Temp'].mean()"
   ]
  },
  {
   "cell_type": "markdown",
   "metadata": {},
   "source": [
    "What was the maximum ozone value in the month of May (i.e. Month = 5)?"
   ]
  },
  {
   "cell_type": "code",
   "execution_count": null,
   "metadata": {
    "ExecuteTime": {
     "end_time": "2017-01-31T19:01:50.677180",
     "start_time": "2017-01-31T19:01:50.671298"
    },
    "collapsed": true
   },
   "outputs": [],
   "source": [
    "data.loc[data.Month==5, 'Ozone'].max()"
   ]
  },
  {
   "cell_type": "markdown",
   "metadata": {},
   "source": [
    "Take a look at `.value_counts()`. What is the frequency distribution for Temperature like?"
   ]
  },
  {
   "cell_type": "code",
   "execution_count": null,
   "metadata": {
    "ExecuteTime": {
     "end_time": "2017-01-31T19:03:04.288532",
     "start_time": "2017-01-31T19:03:04.280643"
    },
    "collapsed": true
   },
   "outputs": [],
   "source": [
    "data.Temp.value_counts().sort_index(ascending=False)"
   ]
  },
  {
   "cell_type": "markdown",
   "metadata": {},
   "source": [
    "\n",
    "What were the min and max Temp for each month?"
   ]
  },
  {
   "cell_type": "code",
   "execution_count": null,
   "metadata": {
    "ExecuteTime": {
     "end_time": "2017-01-31T19:06:43.652021",
     "start_time": "2017-01-31T19:06:43.645699"
    },
    "collapsed": true
   },
   "outputs": [],
   "source": [
    "data.groupby('Month').Temp.size()"
   ]
  },
  {
   "cell_type": "code",
   "execution_count": null,
   "metadata": {
    "ExecuteTime": {
     "end_time": "2017-01-31T19:07:43.446153",
     "start_time": "2017-01-31T19:07:43.431887"
    },
    "collapsed": true
   },
   "outputs": [],
   "source": [
    "data.groupby('Month').Temp.agg(['size', 'mean', np.min, np.max])"
   ]
  },
  {
   "cell_type": "markdown",
   "metadata": {},
   "source": [
    "How do you calculate the summary statistics using `.describe()` for each month?"
   ]
  },
  {
   "cell_type": "code",
   "execution_count": null,
   "metadata": {
    "ExecuteTime": {
     "end_time": "2017-01-31T19:07:56.727845",
     "start_time": "2017-01-31T19:07:56.634500"
    },
    "collapsed": true
   },
   "outputs": [],
   "source": [
    "data.groupby('Month').describe()"
   ]
  },
  {
   "cell_type": "markdown",
   "metadata": {},
   "source": [
    "\n",
    "How could you use `seaborn.distplot()` with this dataset? Plot an example."
   ]
  },
  {
   "cell_type": "code",
   "execution_count": null,
   "metadata": {
    "ExecuteTime": {
     "end_time": "2017-01-31T19:09:34.248201",
     "start_time": "2017-01-31T19:09:33.469366"
    },
    "collapsed": true
   },
   "outputs": [],
   "source": [
    "import seaborn as sns\n",
    "sns.distplot(data.Temp);"
   ]
  },
  {
   "cell_type": "markdown",
   "metadata": {},
   "source": [
    "\n",
    "How could you use `seaborn.jointplot()` with this dataset? Plot an example."
   ]
  },
  {
   "cell_type": "code",
   "execution_count": null,
   "metadata": {
    "ExecuteTime": {
     "end_time": "2017-01-31T19:12:15.891964",
     "start_time": "2017-01-31T19:12:15.411417"
    },
    "collapsed": true
   },
   "outputs": [],
   "source": [
    "sns.jointplot(data.Ozone, data.Temp);"
   ]
  },
  {
   "cell_type": "markdown",
   "metadata": {},
   "source": [
    "How could you use `seaborn.pairplot()` with this dataset? Show an example."
   ]
  },
  {
   "cell_type": "code",
   "execution_count": null,
   "metadata": {
    "ExecuteTime": {
     "end_time": "2017-01-31T19:12:54.282573",
     "start_time": "2017-01-31T19:12:49.660492"
    },
    "collapsed": true
   },
   "outputs": [],
   "source": [
    "sns.pairplot(data.dropna());"
   ]
  },
  {
   "cell_type": "markdown",
   "metadata": {},
   "source": [
    "How could you use `seaborn.lmplot()` with this dataset? Show an example."
   ]
  },
  {
   "cell_type": "code",
   "execution_count": null,
   "metadata": {
    "ExecuteTime": {
     "end_time": "2017-01-31T19:14:52.585472",
     "start_time": "2017-01-31T19:14:52.294674"
    },
    "collapsed": true
   },
   "outputs": [],
   "source": [
    "sns.lmplot(x='Temp', y='Ozone', data=data);"
   ]
  },
  {
   "cell_type": "code",
   "execution_count": null,
   "metadata": {
    "collapsed": true
   },
   "outputs": [],
   "source": []
  }
 ],
 "metadata": {
  "kernelspec": {
   "display_name": "Python 3",
   "language": "python",
   "name": "python3"
  },
  "language_info": {
   "codemirror_mode": {
    "name": "ipython",
    "version": 3
   },
   "file_extension": ".py",
   "mimetype": "text/x-python",
   "name": "python",
   "nbconvert_exporter": "python",
   "pygments_lexer": "ipython3",
   "version": "3.4.5"
  },
  "latex_envs": {
   "bibliofile": "biblio.bib",
   "cite_by": "apalike",
   "current_citInitial": 1,
   "eqLabelWithNumbers": true,
   "eqNumInitial": 0
  }
 },
 "nbformat": 4,
 "nbformat_minor": 1
}
